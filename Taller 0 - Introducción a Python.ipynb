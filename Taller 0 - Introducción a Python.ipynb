{
 "cells": [
  {
   "cell_type": "markdown",
   "metadata": {},
   "source": [
    "<h3>Introducción a Python y Numpy</h3>\n",
    "Referencias básicas para familiarizarse con Python utilizando Jupyter Notebooks.<br>\n",
    "Autor: Claudio Morales D.<br>\n",
    "Santiago, Chile, 2020"
   ]
  },
  {
   "cell_type": "markdown",
   "metadata": {},
   "source": [
    "Indicaciones generales:<br>\n",
    "- Ejecute las celdas una a una. Observará el resultado que arroja el shell de python.\n",
    "- Realice modificaciones a voluntad y observe sus nuevos resultados. Mediante este método se irá familiarizando con los comandos y aprendiendo a resolver errores."
   ]
  },
  {
   "cell_type": "markdown",
   "metadata": {},
   "source": [
    "<h4>Tipos de variables elementales</h4>"
   ]
  },
  {
   "cell_type": "code",
   "execution_count": null,
   "metadata": {},
   "outputs": [],
   "source": [
    "# Un número puede ser de tipo entero (int) o real (float) \n",
    "x = 1  # x es entero (int)\n",
    "y = 1. # y es real (float)\n",
    "\n",
    "# Las cadenas de texto (str) se señalan por ' ó \"\n",
    "texto1 = 'mi texto'\n",
    "texto2 = \"otro texto\"\n",
    "\n",
    "#para identificar el tipo de variable se usa type()\n",
    "type(y)"
   ]
  },
  {
   "cell_type": "code",
   "execution_count": null,
   "metadata": {},
   "outputs": [],
   "source": [
    "# Una lista (list) es el arreglo base de Python\n",
    "# En una lista los elementos están separados por comas\n",
    "l = [2, 3, 4, 1]\n",
    "type(l)"
   ]
  },
  {
   "cell_type": "code",
   "execution_count": null,
   "metadata": {},
   "outputs": [],
   "source": [
    "# Puede haber listas con distintos tipos de elementos\n",
    "l2 = [2, 4.5, 'Juan', 5]\n",
    "\n",
    "# Incluso listas de listas, llamadas listas anidadas\n",
    "l3 = [2, 4.5, ['pedro', 'juan', 3]]"
   ]
  },
  {
   "cell_type": "code",
   "execution_count": null,
   "metadata": {},
   "outputs": [],
   "source": [
    "# El número de elementos de la lista se puede obtener por la función len()\n",
    "len(l2)"
   ]
  },
  {
   "cell_type": "code",
   "execution_count": null,
   "metadata": {},
   "outputs": [],
   "source": [
    "# Los elementos de una lista de identifican con índices entre corchetes\n",
    "l[3]"
   ]
  },
  {
   "cell_type": "code",
   "execution_count": null,
   "metadata": {},
   "outputs": [],
   "source": [
    "# En elemento dentro de una lista anidada se identifica con dos índices\n",
    "l3[2][1]"
   ]
  },
  {
   "cell_type": "code",
   "execution_count": null,
   "metadata": {},
   "outputs": [],
   "source": [
    "#En las operaciones matemáticas, el tipo de datos se ajusta automáticamente al tipo más adecuado\n",
    "x1 = 4\n",
    "x2 = 10\n",
    "x1+x2\n",
    "#¿qué tipo de dato tiene el resultado x1+x2?"
   ]
  },
  {
   "cell_type": "markdown",
   "metadata": {},
   "source": [
    "<h4>Estructuras de selección e iteración</h4>\n",
    "Son estructuras estándar para realizar operaciones en forma selectiva o repetitiva."
   ]
  },
  {
   "cell_type": "code",
   "execution_count": null,
   "metadata": {},
   "outputs": [],
   "source": [
    "# Selección if -- else\n",
    "x1 = 1\n",
    "if (x1 == 1):\n",
    "    print 'se cumple la condición'\n",
    "else:\n",
    "    print 'no se cumple la condición'"
   ]
  },
  {
   "cell_type": "code",
   "execution_count": null,
   "metadata": {},
   "outputs": [],
   "source": [
    "# Iteración: for\n",
    "l = [2, 4.5, 'Juan']\n",
    "for i in range(len(l)):\n",
    "    print('El elemento', i, 'es', l[i])\n",
    "    "
   ]
  },
  {
   "cell_type": "code",
   "execution_count": null,
   "metadata": {},
   "outputs": [],
   "source": [
    "range(len(l))"
   ]
  },
  {
   "cell_type": "code",
   "execution_count": null,
   "metadata": {},
   "outputs": [],
   "source": [
    "# Al anidar operadores se deben respetar el sangrado (indentation)\n",
    "# Las líneas de código que tienen el mismo nivel de sangrado se ejecutan en\n",
    "# forma secuencial. Entre un nivel de sangrado y el siguiente hay 4 espacios en blanco.\n",
    "\n",
    "# El siguiente código tiene un error de indentación\n",
    "# ¿Cómo se resuelve?\n",
    "l = [2, 4.5, 'Juan']\n",
    "for i in range(len(l)):\n",
    "    if l[i]=='Juan':\n",
    "    print 'El elemento', i, 'es Juan' "
   ]
  },
  {
   "cell_type": "code",
   "execution_count": null,
   "metadata": {},
   "outputs": [],
   "source": [
    "# El siguiente código cuenta el número de elementos pares e impares de una lista de números.\n",
    "l = [1, 20, 9, 4, 12, 2, 3, 34, 8]\n",
    "pares = 0\n",
    "impares = 0\n",
    "m = 0\n",
    "umbral = 7\n",
    "\n",
    "for i in range(len(l)):\n",
    "    if l[i]%2 == 0: # el operador % entrega el resto de una división entera\n",
    "        pares += 1\n",
    "    else:\n",
    "        impares += 1\n",
    "        if l[i] > umbral:\n",
    "            m += 1\n",
    "\n",
    "print 'hay', pares, 'numeros pares' \n",
    "print 'hay', impares, 'numeros impares' \n",
    "print 'hay', m, 'numeros impares mayores que', umbral"
   ]
  },
  {
   "cell_type": "code",
   "execution_count": null,
   "metadata": {},
   "outputs": [],
   "source": []
  },
  {
   "cell_type": "markdown",
   "metadata": {},
   "source": [
    "<h4>Vectores y matrices con Numpy</h4>\n",
    "La librería Numpy ha sido creada para facilitar el trabajo con estructuras numéricas como vectores y matrices.<br>\n",
    "Para más información y ejemplos, consultar la documentación oficial:<br>\n",
    "numpy: <a>https://docs.scipy.org/doc/numpy-1.14.0/user/basics.html</a>"
   ]
  },
  {
   "cell_type": "code",
   "execution_count": null,
   "metadata": {},
   "outputs": [],
   "source": [
    "# importamos la librería con un nombre corto\n",
    "import numpy as np "
   ]
  },
  {
   "cell_type": "code",
   "execution_count": null,
   "metadata": {},
   "outputs": [],
   "source": [
    "# Numpy tiene un tipo especial de variable llamada ndarray\n",
    "# Puede definirse un arreglo a partir de una lista\n",
    "x1 = np.array([2,3,4,5,6,7])\n",
    "x1"
   ]
  },
  {
   "cell_type": "code",
   "execution_count": null,
   "metadata": {},
   "outputs": [],
   "source": [
    "# El tipo de datos es ndarray\n",
    "type(x1)"
   ]
  },
  {
   "cell_type": "code",
   "execution_count": null,
   "metadata": {},
   "outputs": [],
   "source": [
    "# El tamaño del arreglo (size) es el número de elementos que contiene\n",
    "x1.size"
   ]
  },
  {
   "cell_type": "code",
   "execution_count": null,
   "metadata": {},
   "outputs": [],
   "source": [
    "# Pueden también definirse arreglos de dos o más dimensiones\n",
    "x2 = np.array([[1, 2, 3], [4, 5, 6]])\n",
    "x2"
   ]
  },
  {
   "cell_type": "code",
   "execution_count": null,
   "metadata": {},
   "outputs": [],
   "source": [
    "# El tamaño de la matriz (size) es igualmente el número de elementos\n",
    "x2.size"
   ]
  },
  {
   "cell_type": "code",
   "execution_count": null,
   "metadata": {},
   "outputs": [],
   "source": [
    "# La forma de la matriz (shape) es el número de filas y columnas\n",
    "x2.shape"
   ]
  },
  {
   "cell_type": "code",
   "execution_count": null,
   "metadata": {},
   "outputs": [],
   "source": [
    "# Pueden crearse matrices especiales con facilidad\n",
    "#x3 = np.zeros([2,3])\n",
    "#x3 = np.ones([2,2])\n",
    "x3 = np.eye(4)\n",
    "x3"
   ]
  },
  {
   "cell_type": "code",
   "execution_count": null,
   "metadata": {},
   "outputs": [],
   "source": [
    "# Una forma útil de crear arreglos es mediante un arreglo lineal\n",
    "# linspace(*valor_inicial*, *valor_final*, *nro._de_elementos*)\n",
    "x = np.linspace(1, 10, 20)\n",
    "x"
   ]
  },
  {
   "cell_type": "markdown",
   "metadata": {},
   "source": [
    "<h4>Operaciones entre vectores y matrices con Numpy</h4>"
   ]
  },
  {
   "cell_type": "code",
   "execution_count": null,
   "metadata": {},
   "outputs": [],
   "source": [
    "# Producto escalar\n",
    "a = 2.\n",
    "X = np.eye(2)\n",
    "a*X"
   ]
  },
  {
   "cell_type": "code",
   "execution_count": null,
   "metadata": {},
   "outputs": [],
   "source": [
    "# Producto vectorial (producto punto)\n",
    "v = np.array([1,2])\n",
    "w = np.array([0.5,1])\n",
    "np.dot(v,w)"
   ]
  },
  {
   "cell_type": "code",
   "execution_count": null,
   "metadata": {},
   "outputs": [],
   "source": [
    "# Transpuesta de una matriz\n",
    "A = np.array([[1,2],[3,4]])\n",
    "A.transpose()"
   ]
  },
  {
   "cell_type": "code",
   "execution_count": null,
   "metadata": {},
   "outputs": [],
   "source": [
    "# Inversa de una matriz\n",
    "A = np.array([[1,2],[3,4]])\n",
    "np.linalg.inv(A)"
   ]
  },
  {
   "cell_type": "code",
   "execution_count": null,
   "metadata": {},
   "outputs": [],
   "source": [
    "# Producto de matriz por vector\n",
    "A = np.array([[1,2],[3,4]])\n",
    "v = np.array([0,1])\n",
    "np.dot(A,v)"
   ]
  },
  {
   "cell_type": "markdown",
   "metadata": {},
   "source": [
    "<h4>Gráficos con Pyplot</h4>\n",
    "Pyplot es parte de la librería matplotlib y facilita la construcción de gráficos de dos dimensiones.\n",
    "Para más información y ejemplos, consultar la documentación oficial:<br>\n",
    "pyplot: <a>https://matplotlib.org/api/pyplot_api.html</a>"
   ]
  },
  {
   "cell_type": "code",
   "execution_count": null,
   "metadata": {},
   "outputs": [],
   "source": [
    "# importamos la librería con un nombre corto\n",
    "import matplotlib.pyplot as plt"
   ]
  },
  {
   "cell_type": "code",
   "execution_count": null,
   "metadata": {},
   "outputs": [],
   "source": [
    "# Pyplot puede usarse para graficar un punto\n",
    "x = 1\n",
    "y = 2\n",
    "plt.plot(x, y, 'o')\n",
    "plt.show()"
   ]
  },
  {
   "cell_type": "code",
   "execution_count": null,
   "metadata": {},
   "outputs": [],
   "source": [
    "# También para graficar series de datos\n",
    "x = np.linspace(-10, 10, 50)\n",
    "y = x**2 # se calcula y = x² para cada elemento del arreglo\n",
    "\n",
    "plt.plot(x, y)\n",
    "plt.show()"
   ]
  },
  {
   "cell_type": "code",
   "execution_count": null,
   "metadata": {},
   "outputs": [],
   "source": [
    "# Es posible customizar el gráfico a voluntad con etiquetas, colores,\n",
    "# tipos de línea, tipos de fuente, flechas, etc.\n",
    "# ver las muchas opciones en la documentación oficial.\n",
    "\n",
    "x = np.linspace(-10, 10, 50)\n",
    "y = x**2 # y = x² para cada elemento del arreglo\n",
    "\n",
    "fig, axes = plt.subplots() # crea un espacio de figura y ejes\n",
    "# en la figura se traza el gráfico\n",
    "# y se pueden emplear varias opciones para los ejes.\n",
    "axes.plot(x, y, 'g-')\n",
    "\n",
    "axes.set_title('Mi titulo')\n",
    "axes.set_xlabel('Eje X')\n",
    "axes.set_ylabel('Eje Y')\n",
    "\n",
    "axes.set_ylim(-100, 100)\n",
    "\n",
    "axes.annotate('minimo', xy=(0, 0), xytext=(1, -30),\n",
    "            arrowprops=dict(facecolor='blue'),\n",
    "            )\n",
    "plt.show()"
   ]
  },
  {
   "cell_type": "code",
   "execution_count": null,
   "metadata": {},
   "outputs": [],
   "source": [
    "# Pueden graficarse series de datos superpuestas\n",
    "# Creamos un vector para los valores de x\n",
    "x = np.linspace(0, 10, 100)\n",
    "# Y dos vectores llenos de ceros para almacenar los valores de y1 e y2\n",
    "y1 = np.zeros(x.size)\n",
    "y2 = np.zeros(x.size)\n",
    "\n",
    "# Utilizaremos la librería math para calcular funciones matemáticas\n",
    "# Más información en math: https://docs.python.org/3/library/math.html\n",
    "import math\n",
    "# Y calcularemos las funciones para cada valor de x utilizando un ciclo for\n",
    "for i in range(x.size):\n",
    "    y1[i] = math.sin(x[i])\n",
    "    y2[i] = 1.5*math.cos(2*x[i])\n",
    "\n",
    "plt.plot(x, y1)\n",
    "plt.plot(x, y2)\n",
    "plt.show()"
   ]
  },
  {
   "cell_type": "code",
   "execution_count": null,
   "metadata": {},
   "outputs": [],
   "source": [
    "# También pueden construirse subgráficos con la opción subplot\n",
    "x = np.linspace(0, 10, 100)\n",
    "y1 = np.zeros(x.size)\n",
    "y2 = np.zeros(x.size)\n",
    "y3 = np.zeros(x.size)\n",
    "\n",
    "for i in range(x.size):\n",
    "    y1[i] = math.sin(x[i])\n",
    "    y2[i] = 1.5*math.cos(2*x[i])\n",
    "    y3[i] = y1[i]+y2[i]\n",
    "\n",
    "# se construyen subgráficos con la opción plt.subplot(filas, columnas, posicion)\n",
    "# filas: número de filas en que se divide el gráfico\n",
    "# columnas: número de columnas en que se divide gráfico\n",
    "# posición: posición dentro de la división (filas, columnas)\n",
    "plt.subplot(221)\n",
    "plt.plot(x, y1)\n",
    "plt.subplot(222)\n",
    "plt.plot(x, y2)\n",
    "plt.subplot(212)\n",
    "plt.plot(x, y3)\n",
    "plt.show()"
   ]
  }
 ],
 "metadata": {
  "kernelspec": {
   "display_name": "Python 3",
   "language": "python",
   "name": "python3"
  },
  "language_info": {
   "codemirror_mode": {
    "name": "ipython",
    "version": 2
   },
   "file_extension": ".py",
   "mimetype": "text/x-python",
   "name": "python",
   "nbconvert_exporter": "python",
   "pygments_lexer": "ipython2",
   "version": "2.7.12"
  }
 },
 "nbformat": 4,
 "nbformat_minor": 2
}
